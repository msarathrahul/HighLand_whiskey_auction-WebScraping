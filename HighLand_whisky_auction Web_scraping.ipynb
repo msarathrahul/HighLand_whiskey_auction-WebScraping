{
 "cells": [
  {
   "cell_type": "code",
   "execution_count": 1,
   "id": "cc4aa0f3",
   "metadata": {},
   "outputs": [],
   "source": [
    "from bs4 import BeautifulSoup\n",
    "import urllib.request\n",
    "import pandas as pd"
   ]
  },
  {
   "cell_type": "code",
   "execution_count": 2,
   "id": "a964c5bb",
   "metadata": {},
   "outputs": [
    {
     "data": {
      "text/plain": [
       "'\\nRequired attributes:\\n\\n#Distillery\\n#Vintage\\n#Number of bottles produced originally\\nFormat\\nAmount\\nWeather quality\\nPrice history\\nWarnings (e.g. damage)\\n#Strenght             \\n#Whisky Type (single malt etc)\\nReserve price (yes/no)\\nConcluded (yes/no)\\n\\n'"
      ]
     },
     "execution_count": 2,
     "metadata": {},
     "output_type": "execute_result"
    }
   ],
   "source": [
    "\"\"\"\n",
    "Required attributes:\n",
    "\n",
    "#Distillery\n",
    "#Vintage\n",
    "#Number of bottles produced originally\n",
    "Format\n",
    "Amount\n",
    "Weather quality\n",
    "Price history\n",
    "Warnings (e.g. damage)\n",
    "#Strenght             \n",
    "#Whisky Type (single malt etc)\n",
    "Reserve price (yes/no)\n",
    "Concluded (yes/no)\n",
    "\n",
    "\"\"\""
   ]
  },
  {
   "cell_type": "code",
   "execution_count": 3,
   "id": "9858f99f",
   "metadata": {},
   "outputs": [],
   "source": [
    "website_link = 'https://www.highlandwhiskyauctions.com/past-auctions'"
   ]
  },
  {
   "cell_type": "code",
   "execution_count": 4,
   "id": "535211f3",
   "metadata": {},
   "outputs": [],
   "source": [
    "html = urllib.request.urlopen(website_link).read()"
   ]
  },
  {
   "cell_type": "code",
   "execution_count": 5,
   "id": "b8849b3a",
   "metadata": {},
   "outputs": [],
   "source": [
    "soup = BeautifulSoup(html,'lxml')"
   ]
  },
  {
   "cell_type": "code",
   "execution_count": 6,
   "id": "5e53bfff",
   "metadata": {},
   "outputs": [],
   "source": [
    "#soup.prettify"
   ]
  },
  {
   "cell_type": "code",
   "execution_count": 7,
   "id": "eff50b6d",
   "metadata": {},
   "outputs": [],
   "source": [
    "#The total number of auctions available\n",
    "\n",
    "available_auctions = soup.find_all('li',class_ = 'itemSmall')"
   ]
  },
  {
   "cell_type": "code",
   "execution_count": 8,
   "id": "b5f506a9",
   "metadata": {},
   "outputs": [],
   "source": [
    "auction_months = []\n",
    "for i in available_auctions:\n",
    "    auction_months.append(i.div.a['href'])"
   ]
  },
  {
   "cell_type": "code",
   "execution_count": 9,
   "id": "191cb712",
   "metadata": {},
   "outputs": [],
   "source": [
    "auction_months_links = {}\n",
    "for i in auction_months:\n",
    "    auction_months_links[i.split('/')[-1]] = 'https://www.highlandwhiskyauctions.com'+i"
   ]
  },
  {
   "cell_type": "code",
   "execution_count": 10,
   "id": "860ba75c",
   "metadata": {},
   "outputs": [
    {
     "name": "stdout",
     "output_type": "stream",
     "text": [
      "https://www.highlandwhiskyauctions.com/february-2023\n",
      "https://www.highlandwhiskyauctions.com/december-2022\n",
      "https://www.highlandwhiskyauctions.com/november-2022\n",
      "https://www.highlandwhiskyauctions.com/october-2022\n",
      "https://www.highlandwhiskyauctions.com/september-2022\n",
      "https://www.highlandwhiskyauctions.com/august-2022\n",
      "https://www.highlandwhiskyauctions.com/july-2022\n",
      "https://www.highlandwhiskyauctions.com/may-2022\n",
      "https://www.highlandwhiskyauctions.com/april-2022\n",
      "https://www.highlandwhiskyauctions.com/march-2022\n",
      "https://www.highlandwhiskyauctions.com/february-2022\n",
      "https://www.highlandwhiskyauctions.com/janurary-2022\n",
      "https://www.highlandwhiskyauctions.com/december-2021\n"
     ]
    }
   ],
   "source": [
    "for i in auction_months_links.keys():\n",
    "    print(auction_months_links[i])"
   ]
  },
  {
   "cell_type": "code",
   "execution_count": 11,
   "id": "43cc3238",
   "metadata": {},
   "outputs": [],
   "source": [
    "#Finding number of available pages in each auction\n",
    "\n",
    "for i in auction_months_links.keys():\n",
    "    auction_month_page = (auction_months_links[i])\n",
    "    html = urllib.request.urlopen(auction_month_page).read()\n",
    "    soup = BeautifulSoup(html,'lxml')"
   ]
  },
  {
   "cell_type": "code",
   "execution_count": 12,
   "id": "8e46999b",
   "metadata": {},
   "outputs": [],
   "source": [
    "website = 'https://www.highlandwhiskyauctions.com/february-2023/page-1'\n",
    "html = urllib.request.urlopen(website).read()\n",
    "soup = BeautifulSoup(html,'lxml')"
   ]
  },
  {
   "cell_type": "code",
   "execution_count": 181,
   "id": "024849d6",
   "metadata": {},
   "outputs": [],
   "source": [
    "#soup.find_all('li')"
   ]
  },
  {
   "cell_type": "code",
   "execution_count": 14,
   "id": "6a9edaee",
   "metadata": {},
   "outputs": [],
   "source": [
    "#On observation, the webpages are dynamic in nature"
   ]
  },
  {
   "cell_type": "code",
   "execution_count": 35,
   "id": "6589dc9f",
   "metadata": {},
   "outputs": [],
   "source": [
    "from selenium import webdriver\n",
    "from selenium.webdriver.common.by import By"
   ]
  },
  {
   "cell_type": "code",
   "execution_count": 36,
   "id": "8327e45a",
   "metadata": {},
   "outputs": [],
   "source": [
    "auction_pages = list(auction_months_links.values())"
   ]
  },
  {
   "cell_type": "code",
   "execution_count": 77,
   "id": "78b855e0",
   "metadata": {},
   "outputs": [],
   "source": [
    "#Finding number of pages assigned in each auction\n",
    "last_page_dict = {}\n",
    "for i in auction_pages:\n",
    "    driver = webdriver.Chrome()\n",
    "    driver.get(i)\n",
    "    page_finder = driver.find_element(By.CLASS_NAME, 'pagination')\n",
    "    sel = page_finder.get_attribute('innerHTML')\n",
    "    soup = BeautifulSoup(sel,'lxml')\n",
    "    last_page = soup.find_all('li')[-2].text\n",
    "    last_page = int(last_page.replace('\\n','').replace(' ',''))\n",
    "    last_page_dict[i.split('/')[-1]] = last_page"
   ]
  },
  {
   "cell_type": "code",
   "execution_count": 78,
   "id": "9808349a",
   "metadata": {},
   "outputs": [
    {
     "data": {
      "text/plain": [
       "{'february-2023': 24,\n",
       " 'december-2022': 24,\n",
       " 'november-2022': 28,\n",
       " 'october-2022': 18,\n",
       " 'september-2022': 14,\n",
       " 'august-2022': 16,\n",
       " 'july-2022': 15,\n",
       " 'may-2022': 13,\n",
       " 'april-2022': 10,\n",
       " 'march-2022': 10,\n",
       " 'february-2022': 8,\n",
       " 'janurary-2022': 4,\n",
       " 'december-2021': 3}"
      ]
     },
     "execution_count": 78,
     "metadata": {},
     "output_type": "execute_result"
    }
   ],
   "source": [
    "last_page_dict"
   ]
  },
  {
   "cell_type": "code",
   "execution_count": 79,
   "id": "b96ec302",
   "metadata": {},
   "outputs": [
    {
     "data": {
      "text/plain": [
       "['https://www.highlandwhiskyauctions.com/february-2023',\n",
       " 'https://www.highlandwhiskyauctions.com/december-2022',\n",
       " 'https://www.highlandwhiskyauctions.com/november-2022',\n",
       " 'https://www.highlandwhiskyauctions.com/october-2022',\n",
       " 'https://www.highlandwhiskyauctions.com/september-2022',\n",
       " 'https://www.highlandwhiskyauctions.com/august-2022',\n",
       " 'https://www.highlandwhiskyauctions.com/july-2022',\n",
       " 'https://www.highlandwhiskyauctions.com/may-2022',\n",
       " 'https://www.highlandwhiskyauctions.com/april-2022',\n",
       " 'https://www.highlandwhiskyauctions.com/march-2022',\n",
       " 'https://www.highlandwhiskyauctions.com/february-2022',\n",
       " 'https://www.highlandwhiskyauctions.com/janurary-2022',\n",
       " 'https://www.highlandwhiskyauctions.com/december-2021']"
      ]
     },
     "execution_count": 79,
     "metadata": {},
     "output_type": "execute_result"
    }
   ],
   "source": [
    "auction_pages"
   ]
  },
  {
   "cell_type": "code",
   "execution_count": 176,
   "id": "b5908551",
   "metadata": {},
   "outputs": [],
   "source": [
    "from tqdm import tqdm"
   ]
  },
  {
   "cell_type": "code",
   "execution_count": 180,
   "id": "640d53e1",
   "metadata": {},
   "outputs": [
    {
     "name": "stderr",
     "output_type": "stream",
     "text": [
      "100%|██████████████████████████████████████████| 13/13 [49:31<00:00, 228.54s/it]\n"
     ]
    }
   ],
   "source": [
    "whiskey_dict = {}\n",
    "for x in tqdm(last_page_dict.keys()):\n",
    "    for p in range(1,last_page_dict[x]+1):\n",
    "        website = 'https://www.highlandwhiskyauctions.com/' + x + '/page-' + str(p)\n",
    "        driver = webdriver.Chrome()\n",
    "        driver.get(website)\n",
    "        lot_finder_lst = driver.find_elements(By.CLASS_NAME, 'innerWrap')\n",
    "        for lot in lot_finder_lst:\n",
    "            sel = lot.get_attribute('innerHTML')\n",
    "            soup = BeautifulSoup(sel,'lxml')\n",
    "            link = soup.find('a')['href']\n",
    "            outer_title = soup.find('a')['title']\n",
    "            lot_outer_details = soup.find('div',class_ = 'itemDetails')\n",
    "            lot_outer_details_lst = lot_outer_details.find_all('div')[:-3]\n",
    "            whiskey_dict[link] = []\n",
    "            whiskey_dict[link].append({'outer_lot_title':outer_title})\n",
    "            for i in lot_outer_details_lst:\n",
    "                detail = (i.text.replace('\\n','').strip())\n",
    "                if ':' in detail:\n",
    "                    detail = detail.split(':')\n",
    "                    whiskey_dict[link].append({detail[0]:detail[-1]})\n",
    "                else:\n",
    "                    detail = detail.split()\n",
    "                    whiskey_dict[link].append({' '.join(detail[:-1]):detail[-1]})"
   ]
  },
  {
   "cell_type": "code",
   "execution_count": 246,
   "id": "cdec2137",
   "metadata": {},
   "outputs": [
    {
     "data": {
      "text/plain": [
       "6529"
      ]
     },
     "execution_count": 246,
     "metadata": {},
     "output_type": "execute_result"
    }
   ],
   "source": [
    "len(whiskey_dict)"
   ]
  },
  {
   "cell_type": "code",
   "execution_count": 257,
   "id": "4c90dd97",
   "metadata": {},
   "outputs": [
    {
     "name": "stderr",
     "output_type": "stream",
     "text": [
      "100%|███████████████████████████████████████| 6529/6529 [43:18<00:00,  2.51it/s]\n"
     ]
    }
   ],
   "source": [
    "for i in tqdm(whiskey_dict):\n",
    "    website = i\n",
    "    if True:\n",
    "        html = urllib.request.urlopen(website).read()\n",
    "        soup = BeautifulSoup(html,'lxml')\n",
    "        lot_details = soup.find('ul',class_ = 'lotProperties')\n",
    "        attributes = lot_details.find_all('li')\n",
    "        available_attributes = []\n",
    "        for i in attributes:\n",
    "            available_attributes.append(i.h5.text)\n",
    "        attributes_dict = {}\n",
    "        available_attributes_values = []\n",
    "        for j in attributes:\n",
    "            available_attributes_values.append(j.div.text)\n",
    "        lot_dict = {}\n",
    "        for k in range(0,len(available_attributes)):\n",
    "            lot_dict[available_attributes[k]] = available_attributes_values[k].replace(available_attributes[k],'').replace('\\n','').replace(' ','')\n",
    "        lot_header = soup.find('div',class_ = 'itemHeader')\n",
    "        lot_dict['Name'] = lot_header.h1.text\n",
    "        lot_header['Lot_id'] = lot_header.h2.text\n",
    "        warnings = soup.find('div',class_ = 'pleaseNote')\n",
    "        try:\n",
    "            warnings = warnings.text.replace('\\n','').replace('Please Note:','')\n",
    "        except:\n",
    "            warnings = 'None'\n",
    "        lot_dict['Warnings'] = warnings\n",
    "        for att,val in lot_dict.items():\n",
    "            whiskey_dict[website].append({att:val})\n",
    "        "
   ]
  },
  {
   "cell_type": "code",
   "execution_count": 258,
   "id": "4611e063",
   "metadata": {},
   "outputs": [
    {
     "data": {
      "text/plain": [
       "6529"
      ]
     },
     "execution_count": 258,
     "metadata": {},
     "output_type": "execute_result"
    }
   ],
   "source": [
    "len(whiskey_dict)"
   ]
  },
  {
   "cell_type": "code",
   "execution_count": 352,
   "id": "9830da01",
   "metadata": {},
   "outputs": [
    {
     "name": "stdout",
     "output_type": "stream",
     "text": [
      "[{'outer_lot_title': 'Macallan - Distil Your World - The London Edition'}, {'Highest bid': ' £7,500.00'}, {'Distillery': 'Macallan'}, {'Country': 'Scotland'}, {'Region': 'Speyside'}, {'Distillery Staus': 'Operational'}, {'Whisky Type': 'SingleMaltWhisky'}, {'Strength': '57.5%'}, {'Size': '70cl'}, {'Name': 'Macallan - Distil Your World - The London Edition'}, {'Warnings': 'None'}]\n"
     ]
    }
   ],
   "source": [
    "for i in whiskey_dict:\n",
    "    print(whiskey_dict[i])\n",
    "    break"
   ]
  },
  {
   "cell_type": "code",
   "execution_count": 263,
   "id": "00b5a8fd",
   "metadata": {},
   "outputs": [],
   "source": [
    "lst = []\n",
    "for i in whiskey_dict:\n",
    "    values = whiskey_dict[i]\n",
    "    for j in values:\n",
    "        lst.append(list(j.keys()))\n",
    "        "
   ]
  },
  {
   "cell_type": "code",
   "execution_count": 266,
   "id": "2aa8803d",
   "metadata": {},
   "outputs": [],
   "source": [
    "lst_unique = []\n",
    "for i in lst:\n",
    "    if i not in lst_unique:\n",
    "        lst_unique.append(i)"
   ]
  },
  {
   "cell_type": "code",
   "execution_count": 337,
   "id": "3cb7cc78",
   "metadata": {},
   "outputs": [
    {
     "data": {
      "text/plain": [
       "Index(['Name', 'Link', 'Distillery', 'Vintage', 'Country', 'Region', 'Size',\n",
       "       'Whisky Type', 'Bottles Produced', 'Distillery Staus', 'Strength',\n",
       "       'Warnings', 'Sold on', 'Cask No.', 'Cask Finish', 'Fill Level',\n",
       "       'Bottle No.'],\n",
       "      dtype='object')"
      ]
     },
     "execution_count": 337,
     "metadata": {},
     "output_type": "execute_result"
    }
   ],
   "source": [
    "df.columns"
   ]
  },
  {
   "cell_type": "code",
   "execution_count": 267,
   "id": "3762d8dd",
   "metadata": {},
   "outputs": [
    {
     "data": {
      "text/plain": [
       "[['outer_lot_title'],\n",
       " ['Highest bid'],\n",
       " ['Distillery'],\n",
       " ['Country'],\n",
       " ['Region'],\n",
       " ['Distillery Staus'],\n",
       " ['Whisky Type'],\n",
       " ['Strength'],\n",
       " ['Size'],\n",
       " ['Name'],\n",
       " ['Warnings'],\n",
       " ['Winning Bid'],\n",
       " ['Sold on'],\n",
       " ['Age'],\n",
       " ['Bottles Produced'],\n",
       " ['Cask No.'],\n",
       " ['Bottle No.'],\n",
       " ['Batch No.'],\n",
       " ['Cask Type'],\n",
       " [''],\n",
       " ['Cask Finish'],\n",
       " ['Fill Level']]"
      ]
     },
     "execution_count": 267,
     "metadata": {},
     "output_type": "execute_result"
    }
   ],
   "source": [
    "lst_unique"
   ]
  },
  {
   "cell_type": "code",
   "execution_count": 268,
   "id": "388dc543",
   "metadata": {},
   "outputs": [
    {
     "data": {
      "text/plain": [
       "21"
      ]
     },
     "execution_count": 268,
     "metadata": {},
     "output_type": "execute_result"
    }
   ],
   "source": [
    "lst.count([''])"
   ]
  },
  {
   "cell_type": "code",
   "execution_count": 277,
   "id": "2e3c3498",
   "metadata": {},
   "outputs": [
    {
     "name": "stdout",
     "output_type": "stream",
     "text": [
      "£0.00 https://www.highlandwhiskyauctions.com/lot-130119/teachers-large-water-jug/auction-13\n",
      "£0.00 https://www.highlandwhiskyauctions.com/lot-130120/bacardi-large-water-jug/auction-13\n",
      "£0.00 https://www.highlandwhiskyauctions.com/lot-130121/crawfords-small-water-jug/auction-13\n",
      "£0.00 https://www.highlandwhiskyauctions.com/lot-120000/teachers-large-water-jug/auction-12\n",
      "£0.00 https://www.highlandwhiskyauctions.com/lot-120018/bacardi-large-water-jug/auction-12\n",
      "£0.00 https://www.highlandwhiskyauctions.com/lot-120021/crawfords-small-water-jug/auction-12\n",
      "£0.00 https://www.highlandwhiskyauctions.com/lot-100444/mackinlays-water-jug/auction-10\n",
      "£0.00 https://www.highlandwhiskyauctions.com/lot-100446/mackinlays-water-jug/auction-10\n",
      "£0.00 https://www.highlandwhiskyauctions.com/lot-100447/ballantines-water-jug/auction-10\n",
      "£0.00 https://www.highlandwhiskyauctions.com/lot-100448/ballantines-water-jug/auction-10\n",
      "£0.00 https://www.highlandwhiskyauctions.com/lot-100452/highland-queen-water-jug/auction-10\n",
      "£0.00 https://www.highlandwhiskyauctions.com/lot-100453/highland-queen-water-jug/auction-10\n",
      "£0.00 https://www.highlandwhiskyauctions.com/lot-100455/the-scotch-whisky-heritage-centre-water-jug/auction-10\n",
      "£0.00 https://www.highlandwhiskyauctions.com/lot-100456/long-john-water-jug/auction-10\n",
      "£0.00 https://www.highlandwhiskyauctions.com/lot-100457/tullamore-dew-water-jug/auction-10\n",
      "£0.00 https://www.highlandwhiskyauctions.com/lot-100460/j-b-water-jug/auction-10\n",
      "£0.00 https://www.highlandwhiskyauctions.com/lot-100464/vat-69-water-jug/auction-10\n",
      "£0.00 https://www.highlandwhiskyauctions.com/lot-100465/king-george-iv-water-jug/auction-10\n",
      "£0.00 https://www.highlandwhiskyauctions.com/lot-100468/burberrys-water-jug/auction-10\n",
      "£0.00 https://www.highlandwhiskyauctions.com/lot-100471/silk-cut-water-jug/auction-10\n",
      "£0.00 https://www.highlandwhiskyauctions.com/lot-100475/kenmore-water-jug/auction-10\n"
     ]
    }
   ],
   "source": [
    "for i in whiskey_dict:\n",
    "    values = whiskey_dict[i]\n",
    "    for j in values:\n",
    "        for k in j:\n",
    "            if k == '':\n",
    "                print(j[''],i)"
   ]
  },
  {
   "cell_type": "code",
   "execution_count": 309,
   "id": "519aca6f",
   "metadata": {},
   "outputs": [],
   "source": [
    "import numpy as np"
   ]
  },
  {
   "cell_type": "code",
   "execution_count": 324,
   "id": "810b2d4a",
   "metadata": {},
   "outputs": [],
   "source": [
    "def finder_function(link,col_name = ''):\n",
    "    details = whiskey_dict[link]\n",
    "    for attributes in details:\n",
    "        for att,val in attributes.items():\n",
    "            if att == col_name:\n",
    "                return val\n",
    "    return np.NaN"
   ]
  },
  {
   "cell_type": "code",
   "execution_count": null,
   "id": "c7138acb",
   "metadata": {},
   "outputs": [],
   "source": []
  },
  {
   "cell_type": "code",
   "execution_count": 287,
   "id": "13455568",
   "metadata": {},
   "outputs": [],
   "source": [
    "df = pd.DataFrame(columns=['Name','Link'])"
   ]
  },
  {
   "cell_type": "code",
   "execution_count": 291,
   "id": "90e0adb8",
   "metadata": {},
   "outputs": [],
   "source": [
    "df['Link'] = list(whiskey_dict.keys())"
   ]
  },
  {
   "cell_type": "code",
   "execution_count": 292,
   "id": "f3663938",
   "metadata": {},
   "outputs": [
    {
     "data": {
      "text/html": [
       "<div>\n",
       "<style scoped>\n",
       "    .dataframe tbody tr th:only-of-type {\n",
       "        vertical-align: middle;\n",
       "    }\n",
       "\n",
       "    .dataframe tbody tr th {\n",
       "        vertical-align: top;\n",
       "    }\n",
       "\n",
       "    .dataframe thead th {\n",
       "        text-align: right;\n",
       "    }\n",
       "</style>\n",
       "<table border=\"1\" class=\"dataframe\">\n",
       "  <thead>\n",
       "    <tr style=\"text-align: right;\">\n",
       "      <th></th>\n",
       "      <th>Name</th>\n",
       "      <th>Link</th>\n",
       "    </tr>\n",
       "  </thead>\n",
       "  <tbody>\n",
       "    <tr>\n",
       "      <th>0</th>\n",
       "      <td>NaN</td>\n",
       "      <td>https://www.highlandwhiskyauctions.com/lot-130...</td>\n",
       "    </tr>\n",
       "    <tr>\n",
       "      <th>1</th>\n",
       "      <td>NaN</td>\n",
       "      <td>https://www.highlandwhiskyauctions.com/lot-130...</td>\n",
       "    </tr>\n",
       "    <tr>\n",
       "      <th>2</th>\n",
       "      <td>NaN</td>\n",
       "      <td>https://www.highlandwhiskyauctions.com/lot-130...</td>\n",
       "    </tr>\n",
       "    <tr>\n",
       "      <th>3</th>\n",
       "      <td>NaN</td>\n",
       "      <td>https://www.highlandwhiskyauctions.com/lot-130...</td>\n",
       "    </tr>\n",
       "    <tr>\n",
       "      <th>4</th>\n",
       "      <td>NaN</td>\n",
       "      <td>https://www.highlandwhiskyauctions.com/lot-130...</td>\n",
       "    </tr>\n",
       "  </tbody>\n",
       "</table>\n",
       "</div>"
      ],
      "text/plain": [
       "  Name                                               Link\n",
       "0  NaN  https://www.highlandwhiskyauctions.com/lot-130...\n",
       "1  NaN  https://www.highlandwhiskyauctions.com/lot-130...\n",
       "2  NaN  https://www.highlandwhiskyauctions.com/lot-130...\n",
       "3  NaN  https://www.highlandwhiskyauctions.com/lot-130...\n",
       "4  NaN  https://www.highlandwhiskyauctions.com/lot-130..."
      ]
     },
     "execution_count": 292,
     "metadata": {},
     "output_type": "execute_result"
    }
   ],
   "source": [
    "df.head()"
   ]
  },
  {
   "cell_type": "code",
   "execution_count": 338,
   "id": "68a4ca81",
   "metadata": {},
   "outputs": [],
   "source": [
    "df['Name'] = df['Link'].apply(lambda x : finder_function(x,'Name'))\n",
    "df['Distillery'] = df['Link'].apply(lambda x : finder_function(x,'Distillery'))\n",
    "df['Vintage'] = df['Link'].apply(lambda x : finder_function(x,'Age'))\n",
    "df['Country'] = df['Link'].apply(lambda x : finder_function(x,'Country'))\n",
    "df['Region'] = df['Link'].apply(lambda x : finder_function(x,'Region'))\n",
    "df['Size'] = df['Link'].apply(lambda x : finder_function(x,'Size'))\n",
    "df['Whisky Type'] = df['Link'].apply(lambda x : finder_function(x,'Whisky Type'))\n",
    "df['Bottles Produced'] = df['Link'].apply(lambda x : finder_function(x,'Bottles Produced'))\n",
    "df['Distillery Staus'] = df['Link'].apply(lambda x : finder_function(x,'Distillery Staus'))\n",
    "df['Strength'] = df['Link'].apply(lambda x : finder_function(x,'Strength'))\n",
    "df['Warnings'] = df['Link'].apply(lambda x : finder_function(x,'Warnings'))\n",
    "df['Sold on'] = df['Link'].apply(lambda x : finder_function(x,'Sold on'))\n",
    "df['Cask No.'] = df['Link'].apply(lambda x : finder_function(x,'Cask No.'))\n",
    "df['Cask Finish'] = df['Link'].apply(lambda x : finder_function(x,'Cask Finish'))\n",
    "df['Fill Level'] = df['Link'].apply(lambda x : finder_function(x,'Fill Level'))\n",
    "df['Cask Finish'] = df['Link'].apply(lambda x : finder_function(x,'Cask Finish'))\n",
    "df['Bottle No.'] = df['Link'].apply(lambda x : finder_function(x,'Bottle No.'))\n",
    "df['Cask Type'] = df['Link'].apply(lambda x : finder_function(x,'Cask Type'))\n",
    "df['Batch No.'] = df['Link'].apply(lambda x : finder_function(x,'Batch No.'))\n",
    "df['Winning Bid'] = df['Link'].apply(lambda x : finder_function(x,'Winning Bid'))\n",
    "df['Highest bid'] = df['Link'].apply(lambda x : finder_function(x,'Highest bid'))"
   ]
  },
  {
   "cell_type": "code",
   "execution_count": 339,
   "id": "fdbaec61",
   "metadata": {},
   "outputs": [
    {
     "data": {
      "text/html": [
       "<div>\n",
       "<style scoped>\n",
       "    .dataframe tbody tr th:only-of-type {\n",
       "        vertical-align: middle;\n",
       "    }\n",
       "\n",
       "    .dataframe tbody tr th {\n",
       "        vertical-align: top;\n",
       "    }\n",
       "\n",
       "    .dataframe thead th {\n",
       "        text-align: right;\n",
       "    }\n",
       "</style>\n",
       "<table border=\"1\" class=\"dataframe\">\n",
       "  <thead>\n",
       "    <tr style=\"text-align: right;\">\n",
       "      <th></th>\n",
       "      <th>Name</th>\n",
       "      <th>Link</th>\n",
       "      <th>Distillery</th>\n",
       "      <th>Vintage</th>\n",
       "      <th>Country</th>\n",
       "      <th>Region</th>\n",
       "      <th>Size</th>\n",
       "      <th>Whisky Type</th>\n",
       "      <th>Bottles Produced</th>\n",
       "      <th>Distillery Staus</th>\n",
       "      <th>...</th>\n",
       "      <th>Warnings</th>\n",
       "      <th>Sold on</th>\n",
       "      <th>Cask No.</th>\n",
       "      <th>Cask Finish</th>\n",
       "      <th>Fill Level</th>\n",
       "      <th>Bottle No.</th>\n",
       "      <th>Cask Type</th>\n",
       "      <th>Batch No.</th>\n",
       "      <th>Winning Bid</th>\n",
       "      <th>Highest bid</th>\n",
       "    </tr>\n",
       "  </thead>\n",
       "  <tbody>\n",
       "    <tr>\n",
       "      <th>0</th>\n",
       "      <td>Macallan - Distil Your World - The London Edition</td>\n",
       "      <td>https://www.highlandwhiskyauctions.com/lot-130...</td>\n",
       "      <td>Macallan</td>\n",
       "      <td>NaN</td>\n",
       "      <td>Scotland</td>\n",
       "      <td>Speyside</td>\n",
       "      <td>70cl</td>\n",
       "      <td>SingleMaltWhisky</td>\n",
       "      <td>NaN</td>\n",
       "      <td>Operational</td>\n",
       "      <td>...</td>\n",
       "      <td>None</td>\n",
       "      <td>NaN</td>\n",
       "      <td>NaN</td>\n",
       "      <td>NaN</td>\n",
       "      <td>NaN</td>\n",
       "      <td>NaN</td>\n",
       "      <td>NaN</td>\n",
       "      <td>NaN</td>\n",
       "      <td>NaN</td>\n",
       "      <td>£7,500.00</td>\n",
       "    </tr>\n",
       "    <tr>\n",
       "      <th>1</th>\n",
       "      <td>Macallan - 30 Years Old - Sherry Oak 2022 Release</td>\n",
       "      <td>https://www.highlandwhiskyauctions.com/lot-130...</td>\n",
       "      <td>Macallan</td>\n",
       "      <td>30YearsOld</td>\n",
       "      <td>Scotland</td>\n",
       "      <td>Speyside</td>\n",
       "      <td>70cl</td>\n",
       "      <td>SingleMaltWhisky</td>\n",
       "      <td>NaN</td>\n",
       "      <td>Operational</td>\n",
       "      <td>...</td>\n",
       "      <td>None</td>\n",
       "      <td>08/02/2023</td>\n",
       "      <td>NaN</td>\n",
       "      <td>NaN</td>\n",
       "      <td>NaN</td>\n",
       "      <td>NaN</td>\n",
       "      <td>NaN</td>\n",
       "      <td>NaN</td>\n",
       "      <td>£4,050.00</td>\n",
       "      <td>NaN</td>\n",
       "    </tr>\n",
       "    <tr>\n",
       "      <th>2</th>\n",
       "      <td>Springbank - 21 Year Old - First Bottle Of The...</td>\n",
       "      <td>https://www.highlandwhiskyauctions.com/lot-130...</td>\n",
       "      <td>Springbank</td>\n",
       "      <td>21YearsOld</td>\n",
       "      <td>Scotland</td>\n",
       "      <td>Campbeltown</td>\n",
       "      <td>70cl</td>\n",
       "      <td>SingleMaltWhisky</td>\n",
       "      <td>59</td>\n",
       "      <td>Operational</td>\n",
       "      <td>...</td>\n",
       "      <td>Box wear/marks.</td>\n",
       "      <td>NaN</td>\n",
       "      <td>NaN</td>\n",
       "      <td>NaN</td>\n",
       "      <td>NaN</td>\n",
       "      <td>NaN</td>\n",
       "      <td>NaN</td>\n",
       "      <td>NaN</td>\n",
       "      <td>NaN</td>\n",
       "      <td>£4,000.00</td>\n",
       "    </tr>\n",
       "    <tr>\n",
       "      <th>3</th>\n",
       "      <td>Macallan - Royal Marriage - Prince William &amp; K...</td>\n",
       "      <td>https://www.highlandwhiskyauctions.com/lot-130...</td>\n",
       "      <td>Macallan</td>\n",
       "      <td>NaN</td>\n",
       "      <td>Scotland</td>\n",
       "      <td>Speyside</td>\n",
       "      <td>70cl</td>\n",
       "      <td>SingleMaltWhisky</td>\n",
       "      <td>1000</td>\n",
       "      <td>Operational</td>\n",
       "      <td>...</td>\n",
       "      <td>Box &amp; label condition.</td>\n",
       "      <td>NaN</td>\n",
       "      <td>NaN</td>\n",
       "      <td>NaN</td>\n",
       "      <td>NaN</td>\n",
       "      <td>NaN</td>\n",
       "      <td>NaN</td>\n",
       "      <td>NaN</td>\n",
       "      <td>NaN</td>\n",
       "      <td>£3,650.00</td>\n",
       "    </tr>\n",
       "    <tr>\n",
       "      <th>4</th>\n",
       "      <td>Macallan - 18 Year Old - Gran Reserva 1980</td>\n",
       "      <td>https://www.highlandwhiskyauctions.com/lot-130...</td>\n",
       "      <td>Macallan</td>\n",
       "      <td>18YearsOld</td>\n",
       "      <td>Scotland</td>\n",
       "      <td>Speyside</td>\n",
       "      <td>70cl</td>\n",
       "      <td>SingleMaltWhisky</td>\n",
       "      <td>NaN</td>\n",
       "      <td>Operational</td>\n",
       "      <td>...</td>\n",
       "      <td>None</td>\n",
       "      <td>08/02/2023</td>\n",
       "      <td>NaN</td>\n",
       "      <td>NaN</td>\n",
       "      <td>NaN</td>\n",
       "      <td>NaN</td>\n",
       "      <td>NaN</td>\n",
       "      <td>NaN</td>\n",
       "      <td>£3,600.00</td>\n",
       "      <td>NaN</td>\n",
       "    </tr>\n",
       "  </tbody>\n",
       "</table>\n",
       "<p>5 rows × 21 columns</p>\n",
       "</div>"
      ],
      "text/plain": [
       "                                                Name  \\\n",
       "0  Macallan - Distil Your World - The London Edition   \n",
       "1  Macallan - 30 Years Old - Sherry Oak 2022 Release   \n",
       "2  Springbank - 21 Year Old - First Bottle Of The...   \n",
       "3  Macallan - Royal Marriage - Prince William & K...   \n",
       "4         Macallan - 18 Year Old - Gran Reserva 1980   \n",
       "\n",
       "                                                Link  Distillery     Vintage  \\\n",
       "0  https://www.highlandwhiskyauctions.com/lot-130...    Macallan         NaN   \n",
       "1  https://www.highlandwhiskyauctions.com/lot-130...    Macallan  30YearsOld   \n",
       "2  https://www.highlandwhiskyauctions.com/lot-130...  Springbank  21YearsOld   \n",
       "3  https://www.highlandwhiskyauctions.com/lot-130...    Macallan         NaN   \n",
       "4  https://www.highlandwhiskyauctions.com/lot-130...    Macallan  18YearsOld   \n",
       "\n",
       "    Country       Region  Size       Whisky Type Bottles Produced  \\\n",
       "0  Scotland     Speyside  70cl  SingleMaltWhisky              NaN   \n",
       "1  Scotland     Speyside  70cl  SingleMaltWhisky              NaN   \n",
       "2  Scotland  Campbeltown  70cl  SingleMaltWhisky               59   \n",
       "3  Scotland     Speyside  70cl  SingleMaltWhisky             1000   \n",
       "4  Scotland     Speyside  70cl  SingleMaltWhisky              NaN   \n",
       "\n",
       "  Distillery Staus  ...                Warnings     Sold on Cask No.  \\\n",
       "0      Operational  ...                    None         NaN      NaN   \n",
       "1      Operational  ...                    None  08/02/2023      NaN   \n",
       "2      Operational  ...         Box wear/marks.         NaN      NaN   \n",
       "3      Operational  ...  Box & label condition.         NaN      NaN   \n",
       "4      Operational  ...                    None  08/02/2023      NaN   \n",
       "\n",
       "  Cask Finish Fill Level Bottle No. Cask Type Batch No. Winning Bid  \\\n",
       "0         NaN        NaN        NaN       NaN       NaN         NaN   \n",
       "1         NaN        NaN        NaN       NaN       NaN   £4,050.00   \n",
       "2         NaN        NaN        NaN       NaN       NaN         NaN   \n",
       "3         NaN        NaN        NaN       NaN       NaN         NaN   \n",
       "4         NaN        NaN        NaN       NaN       NaN   £3,600.00   \n",
       "\n",
       "  Highest bid  \n",
       "0   £7,500.00  \n",
       "1         NaN  \n",
       "2   £4,000.00  \n",
       "3   £3,650.00  \n",
       "4         NaN  \n",
       "\n",
       "[5 rows x 21 columns]"
      ]
     },
     "execution_count": 339,
     "metadata": {},
     "output_type": "execute_result"
    }
   ],
   "source": [
    "df.head()"
   ]
  },
  {
   "cell_type": "code",
   "execution_count": 340,
   "id": "2c29f262",
   "metadata": {},
   "outputs": [
    {
     "data": {
      "text/plain": [
       "array(['Operational', 'Closed', nan, 'Other'], dtype=object)"
      ]
     },
     "execution_count": 340,
     "metadata": {},
     "output_type": "execute_result"
    }
   ],
   "source": [
    "df['Distillery Staus'].unique()"
   ]
  },
  {
   "cell_type": "code",
   "execution_count": 341,
   "id": "1aa462ea",
   "metadata": {},
   "outputs": [
    {
     "data": {
      "text/plain": [
       "array(['SingleMaltWhisky', 'BlendedWhisky', 'IrishWhisky', 'IrishWhiskey',\n",
       "       'Merchandise', 'BourbonWhiskey', 'Cognac', 'GrainWhisky', 'Gin',\n",
       "       nan, 'Rum', 'WhiskyLiqueur', 'PureMalt', 'Brandy', 'Tequila',\n",
       "       'Port', 'BourbonWhisky', 'NewMake', 'SpiritDrink'], dtype=object)"
      ]
     },
     "execution_count": 341,
     "metadata": {},
     "output_type": "execute_result"
    }
   ],
   "source": [
    "df['Whisky Type'].unique()"
   ]
  },
  {
   "cell_type": "code",
   "execution_count": 348,
   "id": "2ba1375c",
   "metadata": {},
   "outputs": [],
   "source": [
    "df['Lot Id'] = df['Link'].apply(lambda x : int(x.split('/')[3].split('-')[-1]))"
   ]
  },
  {
   "cell_type": "code",
   "execution_count": 350,
   "id": "a92798fc",
   "metadata": {},
   "outputs": [
    {
     "name": "stdout",
     "output_type": "stream",
     "text": [
      "<class 'pandas.core.frame.DataFrame'>\n",
      "RangeIndex: 6529 entries, 0 to 6528\n",
      "Data columns (total 22 columns):\n",
      " #   Column            Non-Null Count  Dtype \n",
      "---  ------            --------------  ----- \n",
      " 0   Name              6529 non-null   object\n",
      " 1   Link              6529 non-null   object\n",
      " 2   Distillery        5791 non-null   object\n",
      " 3   Vintage           2993 non-null   object\n",
      " 4   Country           6273 non-null   object\n",
      " 5   Region            5452 non-null   object\n",
      " 6   Size              6306 non-null   object\n",
      " 7   Whisky Type       6317 non-null   object\n",
      " 8   Bottles Produced  801 non-null    object\n",
      " 9   Distillery Staus  5686 non-null   object\n",
      " 10  Strength          6310 non-null   object\n",
      " 11  Warnings          6529 non-null   object\n",
      " 12  Sold on           4541 non-null   object\n",
      " 13  Cask No.          323 non-null    object\n",
      " 14  Cask Finish       28 non-null     object\n",
      " 15  Fill Level        1 non-null      object\n",
      " 16  Bottle No.        620 non-null    object\n",
      " 17  Cask Type         233 non-null    object\n",
      " 18  Batch No.         175 non-null    object\n",
      " 19  Winning Bid       4541 non-null   object\n",
      " 20  Highest bid       1967 non-null   object\n",
      " 21  Lot Id            6529 non-null   int64 \n",
      "dtypes: int64(1), object(21)\n",
      "memory usage: 1.1+ MB\n"
     ]
    }
   ],
   "source": [
    "df.info()"
   ]
  },
  {
   "cell_type": "code",
   "execution_count": 351,
   "id": "a6a37609",
   "metadata": {},
   "outputs": [],
   "source": [
    "#df.to_csv('HighLand_whisky_auction.csv')"
   ]
  },
  {
   "cell_type": "code",
   "execution_count": 353,
   "id": "8da695ec",
   "metadata": {},
   "outputs": [
    {
     "data": {
      "text/plain": [
       "(6529, 22)"
      ]
     },
     "execution_count": 353,
     "metadata": {},
     "output_type": "execute_result"
    }
   ],
   "source": [
    "df.shape"
   ]
  },
  {
   "cell_type": "code",
   "execution_count": 368,
   "id": "bdb0d7d3",
   "metadata": {},
   "outputs": [
    {
     "data": {
      "text/plain": [
       "4562"
      ]
     },
     "execution_count": 368,
     "metadata": {},
     "output_type": "execute_result"
    }
   ],
   "source": [
    "df['Highest bid'].isna().sum()"
   ]
  },
  {
   "cell_type": "code",
   "execution_count": 385,
   "id": "66d86a27",
   "metadata": {},
   "outputs": [],
   "source": [
    "def func(abc):\n",
    "    if abc is np.NaN:\n",
    "        return 'Not Av'\n",
    "    else:\n",
    "        return abc"
   ]
  },
  {
   "cell_type": "code",
   "execution_count": 389,
   "id": "20f27aae",
   "metadata": {},
   "outputs": [],
   "source": [
    "df['Count_highestbid'] = df['Highest bid'].apply(lambda x : func(x))\n",
    "df['Count_Winningbid'] = df['Winning Bid'].apply(lambda x : func(x))"
   ]
  },
  {
   "cell_type": "code",
   "execution_count": 390,
   "id": "b7b9269d",
   "metadata": {},
   "outputs": [
    {
     "data": {
      "text/html": [
       "<div>\n",
       "<style scoped>\n",
       "    .dataframe tbody tr th:only-of-type {\n",
       "        vertical-align: middle;\n",
       "    }\n",
       "\n",
       "    .dataframe tbody tr th {\n",
       "        vertical-align: top;\n",
       "    }\n",
       "\n",
       "    .dataframe thead th {\n",
       "        text-align: right;\n",
       "    }\n",
       "</style>\n",
       "<table border=\"1\" class=\"dataframe\">\n",
       "  <thead>\n",
       "    <tr style=\"text-align: right;\">\n",
       "      <th></th>\n",
       "      <th>Name</th>\n",
       "      <th>Link</th>\n",
       "      <th>Distillery</th>\n",
       "      <th>Vintage</th>\n",
       "      <th>Country</th>\n",
       "      <th>Region</th>\n",
       "      <th>Size</th>\n",
       "      <th>Whisky Type</th>\n",
       "      <th>Bottles Produced</th>\n",
       "      <th>Distillery Staus</th>\n",
       "      <th>...</th>\n",
       "      <th>Cask Finish</th>\n",
       "      <th>Fill Level</th>\n",
       "      <th>Bottle No.</th>\n",
       "      <th>Cask Type</th>\n",
       "      <th>Batch No.</th>\n",
       "      <th>Winning Bid</th>\n",
       "      <th>Highest bid</th>\n",
       "      <th>Lot Id</th>\n",
       "      <th>Count_highestbid</th>\n",
       "      <th>Count_Winningbid</th>\n",
       "    </tr>\n",
       "  </thead>\n",
       "  <tbody>\n",
       "    <tr>\n",
       "      <th>0</th>\n",
       "      <td>Macallan - Distil Your World - The London Edition</td>\n",
       "      <td>https://www.highlandwhiskyauctions.com/lot-130...</td>\n",
       "      <td>Macallan</td>\n",
       "      <td>NaN</td>\n",
       "      <td>Scotland</td>\n",
       "      <td>Speyside</td>\n",
       "      <td>70cl</td>\n",
       "      <td>SingleMaltWhisky</td>\n",
       "      <td>NaN</td>\n",
       "      <td>Operational</td>\n",
       "      <td>...</td>\n",
       "      <td>NaN</td>\n",
       "      <td>NaN</td>\n",
       "      <td>NaN</td>\n",
       "      <td>NaN</td>\n",
       "      <td>NaN</td>\n",
       "      <td>NaN</td>\n",
       "      <td>£7,500.00</td>\n",
       "      <td>130809</td>\n",
       "      <td>£7,500.00</td>\n",
       "      <td>Not Av</td>\n",
       "    </tr>\n",
       "    <tr>\n",
       "      <th>1</th>\n",
       "      <td>Macallan - 30 Years Old - Sherry Oak 2022 Release</td>\n",
       "      <td>https://www.highlandwhiskyauctions.com/lot-130...</td>\n",
       "      <td>Macallan</td>\n",
       "      <td>30YearsOld</td>\n",
       "      <td>Scotland</td>\n",
       "      <td>Speyside</td>\n",
       "      <td>70cl</td>\n",
       "      <td>SingleMaltWhisky</td>\n",
       "      <td>NaN</td>\n",
       "      <td>Operational</td>\n",
       "      <td>...</td>\n",
       "      <td>NaN</td>\n",
       "      <td>NaN</td>\n",
       "      <td>NaN</td>\n",
       "      <td>NaN</td>\n",
       "      <td>NaN</td>\n",
       "      <td>£4,050.00</td>\n",
       "      <td>NaN</td>\n",
       "      <td>130257</td>\n",
       "      <td>Not Av</td>\n",
       "      <td>£4,050.00</td>\n",
       "    </tr>\n",
       "    <tr>\n",
       "      <th>2</th>\n",
       "      <td>Springbank - 21 Year Old - First Bottle Of The...</td>\n",
       "      <td>https://www.highlandwhiskyauctions.com/lot-130...</td>\n",
       "      <td>Springbank</td>\n",
       "      <td>21YearsOld</td>\n",
       "      <td>Scotland</td>\n",
       "      <td>Campbeltown</td>\n",
       "      <td>70cl</td>\n",
       "      <td>SingleMaltWhisky</td>\n",
       "      <td>59</td>\n",
       "      <td>Operational</td>\n",
       "      <td>...</td>\n",
       "      <td>NaN</td>\n",
       "      <td>NaN</td>\n",
       "      <td>NaN</td>\n",
       "      <td>NaN</td>\n",
       "      <td>NaN</td>\n",
       "      <td>NaN</td>\n",
       "      <td>£4,000.00</td>\n",
       "      <td>130223</td>\n",
       "      <td>£4,000.00</td>\n",
       "      <td>Not Av</td>\n",
       "    </tr>\n",
       "    <tr>\n",
       "      <th>3</th>\n",
       "      <td>Macallan - Royal Marriage - Prince William &amp; K...</td>\n",
       "      <td>https://www.highlandwhiskyauctions.com/lot-130...</td>\n",
       "      <td>Macallan</td>\n",
       "      <td>NaN</td>\n",
       "      <td>Scotland</td>\n",
       "      <td>Speyside</td>\n",
       "      <td>70cl</td>\n",
       "      <td>SingleMaltWhisky</td>\n",
       "      <td>1000</td>\n",
       "      <td>Operational</td>\n",
       "      <td>...</td>\n",
       "      <td>NaN</td>\n",
       "      <td>NaN</td>\n",
       "      <td>NaN</td>\n",
       "      <td>NaN</td>\n",
       "      <td>NaN</td>\n",
       "      <td>NaN</td>\n",
       "      <td>£3,650.00</td>\n",
       "      <td>130571</td>\n",
       "      <td>£3,650.00</td>\n",
       "      <td>Not Av</td>\n",
       "    </tr>\n",
       "    <tr>\n",
       "      <th>4</th>\n",
       "      <td>Macallan - 18 Year Old - Gran Reserva 1980</td>\n",
       "      <td>https://www.highlandwhiskyauctions.com/lot-130...</td>\n",
       "      <td>Macallan</td>\n",
       "      <td>18YearsOld</td>\n",
       "      <td>Scotland</td>\n",
       "      <td>Speyside</td>\n",
       "      <td>70cl</td>\n",
       "      <td>SingleMaltWhisky</td>\n",
       "      <td>NaN</td>\n",
       "      <td>Operational</td>\n",
       "      <td>...</td>\n",
       "      <td>NaN</td>\n",
       "      <td>NaN</td>\n",
       "      <td>NaN</td>\n",
       "      <td>NaN</td>\n",
       "      <td>NaN</td>\n",
       "      <td>£3,600.00</td>\n",
       "      <td>NaN</td>\n",
       "      <td>130549</td>\n",
       "      <td>Not Av</td>\n",
       "      <td>£3,600.00</td>\n",
       "    </tr>\n",
       "  </tbody>\n",
       "</table>\n",
       "<p>5 rows × 24 columns</p>\n",
       "</div>"
      ],
      "text/plain": [
       "                                                Name  \\\n",
       "0  Macallan - Distil Your World - The London Edition   \n",
       "1  Macallan - 30 Years Old - Sherry Oak 2022 Release   \n",
       "2  Springbank - 21 Year Old - First Bottle Of The...   \n",
       "3  Macallan - Royal Marriage - Prince William & K...   \n",
       "4         Macallan - 18 Year Old - Gran Reserva 1980   \n",
       "\n",
       "                                                Link  Distillery     Vintage  \\\n",
       "0  https://www.highlandwhiskyauctions.com/lot-130...    Macallan         NaN   \n",
       "1  https://www.highlandwhiskyauctions.com/lot-130...    Macallan  30YearsOld   \n",
       "2  https://www.highlandwhiskyauctions.com/lot-130...  Springbank  21YearsOld   \n",
       "3  https://www.highlandwhiskyauctions.com/lot-130...    Macallan         NaN   \n",
       "4  https://www.highlandwhiskyauctions.com/lot-130...    Macallan  18YearsOld   \n",
       "\n",
       "    Country       Region  Size       Whisky Type Bottles Produced  \\\n",
       "0  Scotland     Speyside  70cl  SingleMaltWhisky              NaN   \n",
       "1  Scotland     Speyside  70cl  SingleMaltWhisky              NaN   \n",
       "2  Scotland  Campbeltown  70cl  SingleMaltWhisky               59   \n",
       "3  Scotland     Speyside  70cl  SingleMaltWhisky             1000   \n",
       "4  Scotland     Speyside  70cl  SingleMaltWhisky              NaN   \n",
       "\n",
       "  Distillery Staus  ... Cask Finish Fill Level Bottle No. Cask Type Batch No.  \\\n",
       "0      Operational  ...         NaN        NaN        NaN       NaN       NaN   \n",
       "1      Operational  ...         NaN        NaN        NaN       NaN       NaN   \n",
       "2      Operational  ...         NaN        NaN        NaN       NaN       NaN   \n",
       "3      Operational  ...         NaN        NaN        NaN       NaN       NaN   \n",
       "4      Operational  ...         NaN        NaN        NaN       NaN       NaN   \n",
       "\n",
       "  Winning Bid Highest bid  Lot Id Count_highestbid Count_Winningbid  \n",
       "0         NaN   £7,500.00  130809        £7,500.00           Not Av  \n",
       "1   £4,050.00         NaN  130257           Not Av        £4,050.00  \n",
       "2         NaN   £4,000.00  130223        £4,000.00           Not Av  \n",
       "3         NaN   £3,650.00  130571        £3,650.00           Not Av  \n",
       "4   £3,600.00         NaN  130549           Not Av        £3,600.00  \n",
       "\n",
       "[5 rows x 24 columns]"
      ]
     },
     "execution_count": 390,
     "metadata": {},
     "output_type": "execute_result"
    }
   ],
   "source": [
    "df.head()"
   ]
  },
  {
   "cell_type": "code",
   "execution_count": 373,
   "id": "3fee7775",
   "metadata": {},
   "outputs": [
    {
     "data": {
      "text/plain": [
       "'7,500.00'"
      ]
     },
     "execution_count": 373,
     "metadata": {},
     "output_type": "execute_result"
    }
   ],
   "source": [
    "'£7,500.00'.replace('£','')"
   ]
  },
  {
   "cell_type": "code",
   "execution_count": 394,
   "id": "798ec248",
   "metadata": {},
   "outputs": [
    {
     "data": {
      "text/plain": [
       "(21, 24)"
      ]
     },
     "execution_count": 394,
     "metadata": {},
     "output_type": "execute_result"
    }
   ],
   "source": [
    "df[(df['Count_Winningbid'] == 'Not Av') & (df['Count_highestbid'] == 'Not Av')].shape"
   ]
  },
  {
   "cell_type": "code",
   "execution_count": 395,
   "id": "9a377fc8",
   "metadata": {},
   "outputs": [
    {
     "data": {
      "text/plain": [
       "(6529, 24)"
      ]
     },
     "execution_count": 395,
     "metadata": {},
     "output_type": "execute_result"
    }
   ],
   "source": [
    "df.shape"
   ]
  },
  {
   "cell_type": "code",
   "execution_count": 396,
   "id": "c51e09b2",
   "metadata": {},
   "outputs": [
    {
     "data": {
      "text/plain": [
       "6508"
      ]
     },
     "execution_count": 396,
     "metadata": {},
     "output_type": "execute_result"
    }
   ],
   "source": [
    "6529-21"
   ]
  },
  {
   "cell_type": "code",
   "execution_count": null,
   "id": "7fc35b1e",
   "metadata": {},
   "outputs": [],
   "source": []
  }
 ],
 "metadata": {
  "kernelspec": {
   "display_name": "Python 3 (ipykernel)",
   "language": "python",
   "name": "python3"
  },
  "language_info": {
   "codemirror_mode": {
    "name": "ipython",
    "version": 3
   },
   "file_extension": ".py",
   "mimetype": "text/x-python",
   "name": "python",
   "nbconvert_exporter": "python",
   "pygments_lexer": "ipython3",
   "version": "3.9.12"
  }
 },
 "nbformat": 4,
 "nbformat_minor": 5
}
